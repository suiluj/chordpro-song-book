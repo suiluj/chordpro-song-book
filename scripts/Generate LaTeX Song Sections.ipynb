{
 "cells": [
  {
   "cell_type": "markdown",
   "id": "expressed-awareness",
   "metadata": {},
   "source": [
    "# Generate LaTex Song Sections\n",
    "\n",
    "This script creates one tex file per song section which will be included in the main tex file of the song book.\n",
    "\n",
    "## Workflow\n",
    "\n",
    "- load pickle file which contains info of generated chordpro pdf exports\n",
    "- use ninja templates to generate latex files\n"
   ]
  },
  {
   "cell_type": "code",
   "execution_count": null,
   "id": "thorough-script",
   "metadata": {},
   "outputs": [],
   "source": [
    "\n",
    "import os\n",
    "import pandas as pd\n",
    "import pprint"
   ]
  },
  {
   "cell_type": "code",
   "execution_count": null,
   "id": "surrounded-worse",
   "metadata": {},
   "outputs": [],
   "source": [
    "%load_ext autoreload\n",
    "%autoreload 1\n",
    "\n",
    "#from chordprosongbook import songscanner\n",
    "# use this type of import for autoreload:\n",
    "%aimport chordprosongbook.latexgenerator\n",
    "\n"
   ]
  },
  {
   "cell_type": "code",
   "execution_count": null,
   "id": "composite-clause",
   "metadata": {},
   "outputs": [],
   "source": [
    "pp = pprint.PrettyPrinter(indent=4)"
   ]
  },
  {
   "cell_type": "code",
   "execution_count": null,
   "id": "executive-tradition",
   "metadata": {},
   "outputs": [],
   "source": [
    "path_song_sections_pdf_includes = os.path.normpath(\"../data/generated-pdf-includes-do-not-edit/\")\n",
    "path_song_sections_latex = os.path.normpath('../latex/chapters/song-sections/')\n",
    "path_template_folder = os.path.normpath('../templates/')\n",
    "latexgenerator = chordprosongbook.latexgenerator.LatexGenerator(path_song_sections_pdf_includes,path_song_sections_latex,path_template_folder)"
   ]
  },
  {
   "cell_type": "code",
   "execution_count": null,
   "id": "sealed-lincoln",
   "metadata": {},
   "outputs": [],
   "source": [
    "latexgenerator.remove_previous_actions()"
   ]
  },
  {
   "cell_type": "code",
   "execution_count": null,
   "id": "decimal-expression",
   "metadata": {},
   "outputs": [],
   "source": [
    "latexgenerator.generate_song_sections()"
   ]
  },
  {
   "cell_type": "code",
   "execution_count": null,
   "id": "australian-species",
   "metadata": {},
   "outputs": [],
   "source": []
  }
 ],
 "metadata": {
  "kernelspec": {
   "display_name": "Python 3",
   "language": "python",
   "name": "python3"
  },
  "language_info": {
   "codemirror_mode": {
    "name": "ipython",
    "version": 3
   },
   "file_extension": ".py",
   "mimetype": "text/x-python",
   "name": "python",
   "nbconvert_exporter": "python",
   "pygments_lexer": "ipython3",
   "version": "3.9.2"
  }
 },
 "nbformat": 4,
 "nbformat_minor": 5
}
