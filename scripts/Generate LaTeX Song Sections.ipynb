{
 "cells": [
  {
   "cell_type": "markdown",
   "id": "creative-webster",
   "metadata": {},
   "source": [
    "# Generate LaTex Song Sections\n",
    "\n",
    "This script creates one tex file per song section which will be included in the main tex file of the song book.\n",
    "\n",
    "## Workflow\n",
    "\n",
    "- load pickle file which contains info of generated chordpro pdf exports\n",
    "- use ninja templates to generate latex files\n"
   ]
  },
  {
   "cell_type": "code",
   "execution_count": null,
   "id": "bizarre-washer",
   "metadata": {},
   "outputs": [],
   "source": [
    "import jinja2\n",
    "import os\n",
    "import pandas as pd\n",
    "import pprint"
   ]
  },
  {
   "cell_type": "code",
   "execution_count": null,
   "id": "suffering-stuart",
   "metadata": {},
   "outputs": [],
   "source": [
    "try:\n",
    "   import cPickle as pickle\n",
    "except:\n",
    "   import pickle"
   ]
  },
  {
   "cell_type": "code",
   "execution_count": null,
   "id": "polish-prefix",
   "metadata": {},
   "outputs": [],
   "source": [
    "pp = pprint.PrettyPrinter(indent=4)"
   ]
  },
  {
   "cell_type": "code",
   "execution_count": null,
   "id": "infinite-navigation",
   "metadata": {},
   "outputs": [],
   "source": [
    "template_folder_path = os.path.normpath('../templates/')\n",
    "\n",
    "latex_jinja_env = jinja2.Environment(\n",
    "    block_start_string = '\\BLOCK{',\n",
    "    block_end_string = '}',\n",
    "    variable_start_string = '\\VAR{',\n",
    "    variable_end_string = '}',\n",
    "    comment_start_string = '\\#{',\n",
    "    comment_end_string = '}',\n",
    "    line_statement_prefix = '%-',\n",
    "    line_comment_prefix = '%#',\n",
    "    trim_blocks = True,\n",
    "    autoescape = False,\n",
    "    loader = jinja2.FileSystemLoader(os.path.abspath(template_folder_path))\n",
    ")"
   ]
  },
  {
   "cell_type": "code",
   "execution_count": null,
   "id": "close-connecticut",
   "metadata": {},
   "outputs": [],
   "source": [
    "song_sections_info_dict_pickle_path = os.path.join('../data/output/chordpro-pdfs/sections','song_sections_data.pickle')\n",
    "with open(song_sections_info_dict_pickle_path, 'rb') as handle:\n",
    "    song_sections = pickle.load(handle)"
   ]
  },
  {
   "cell_type": "code",
   "execution_count": null,
   "id": "deluxe-encounter",
   "metadata": {},
   "outputs": [],
   "source": [
    "template = latex_jinja_env.get_template('song-section.tex')\n",
    "output_folder_path = os.path.normpath('../latex/chapters/songs/sections/')\n",
    "\n",
    "\n",
    "for section in song_sections:\n",
    "    # pp.pprint(section)\n",
    "    #print(section['name'])\n",
    "    #pp.pprint(section['songs'])\n",
    "    \n",
    "    section_chapter_title = section['name'].replace('&', '\\&') # in case section title contains \"&\" (perhaps also in song file name titles need in special cases) \n",
    "    \n",
    "    document = template.render(section_name=section_chapter_title,songs=section['songs'])\n",
    "    output_file_name = f\"{section['export_section_name']}.tex\"\n",
    "    with open(os.path.join(output_folder_path,output_file_name),'w') as output:\n",
    "        output.write(document)"
   ]
  },
  {
   "cell_type": "code",
   "execution_count": null,
   "id": "detected-bandwidth",
   "metadata": {},
   "outputs": [],
   "source": []
  }
 ],
 "metadata": {
  "kernelspec": {
   "display_name": "Python 3",
   "language": "python",
   "name": "python3"
  },
  "language_info": {
   "codemirror_mode": {
    "name": "ipython",
    "version": 3
   },
   "file_extension": ".py",
   "mimetype": "text/x-python",
   "name": "python",
   "nbconvert_exporter": "python",
   "pygments_lexer": "ipython3",
   "version": "3.9.2"
  }
 },
 "nbformat": 4,
 "nbformat_minor": 5
}
