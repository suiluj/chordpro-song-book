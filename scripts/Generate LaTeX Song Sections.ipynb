{
 "cells": [
  {
   "cell_type": "markdown",
   "id": "formed-fashion",
   "metadata": {},
   "source": [
    "# Generate LaTex Song Sections\n",
    "\n",
    "This script creates one tex file per song section which will be included in the main tex file of the song book.\n",
    "\n",
    "## Workflow\n",
    "\n",
    "- load pickle file which contains info of generated chordpro pdf exports\n",
    "- use ninja templates to generate latex files\n"
   ]
  },
  {
   "cell_type": "code",
   "execution_count": null,
   "id": "driven-compatibility",
   "metadata": {},
   "outputs": [],
   "source": [
    "# https://ipython.readthedocs.io/en/stable/config/options/terminal.html#configtrait-InteractiveShell.ast_node_interactivity\n",
    "from IPython.core.interactiveshell import InteractiveShell\n",
    "InteractiveShell.ast_node_interactivity = \"all\" # last_expr, all"
   ]
  },
  {
   "cell_type": "code",
   "execution_count": null,
   "id": "simplified-newfoundland",
   "metadata": {},
   "outputs": [],
   "source": [
    "\n",
    "import os\n",
    "import pandas as pd\n",
    "import pprint\n",
    "from pylatexenc.latexencode import unicode_to_latex"
   ]
  },
  {
   "cell_type": "code",
   "execution_count": null,
   "id": "royal-rehabilitation",
   "metadata": {},
   "outputs": [],
   "source": [
    "%load_ext autoreload\n",
    "%autoreload 1\n",
    "\n",
    "#from chordprosongbook import songscanner\n",
    "# use this type of import for autoreload:\n",
    "%aimport chordprosongbook.latexgenerator\n",
    "\n"
   ]
  },
  {
   "cell_type": "code",
   "execution_count": null,
   "id": "intimate-blowing",
   "metadata": {},
   "outputs": [],
   "source": [
    "pp = pprint.PrettyPrinter(indent=4)"
   ]
  },
  {
   "cell_type": "code",
   "execution_count": null,
   "id": "geographic-joining",
   "metadata": {},
   "outputs": [],
   "source": [
    "path_song_sections_pdf_includes = os.path.normpath(\"../data/generated-pdf-includes-do-not-edit/\")\n",
    "path_song_sections_latex = os.path.normpath('../latex/chapters/song-sections/')\n",
    "path_template_folder = os.path.normpath('../templates/')\n",
    "latexgenerator = chordprosongbook.latexgenerator.LatexGenerator(path_song_sections_pdf_includes,path_song_sections_latex,path_template_folder)"
   ]
  },
  {
   "cell_type": "raw",
   "id": "wrong-finland",
   "metadata": {},
   "source": [
    "i = 1\n",
    "latexgenerator.song_sections[i].keys()\n",
    "latexgenerator.song_sections[i]['songs'].keys()\n",
    "latexgenerator.song_sections[i]['songs']['pdf-songs']\n",
    "latexgenerator.song_sections[i]['songs']['chordpro-songs']"
   ]
  },
  {
   "cell_type": "code",
   "execution_count": null,
   "id": "expected-transport",
   "metadata": {},
   "outputs": [],
   "source": [
    "latexgenerator.merge_songs_per_section()\n",
    "    \n",
    "#pp.pprint([{'name': s['name'], 'merged_songs': s['merged_songs']} for s in latexgenerator.song_sections])"
   ]
  },
  {
   "cell_type": "code",
   "execution_count": null,
   "id": "speaking-attachment",
   "metadata": {},
   "outputs": [],
   "source": [
    "latexgenerator.sort_merged_songs_per_section()\n",
    "latexgenerator.sort_song_sections()"
   ]
  },
  {
   "cell_type": "code",
   "execution_count": null,
   "id": "metropolitan-rider",
   "metadata": {},
   "outputs": [],
   "source": [
    "pp.pprint([{'name': s['name'], 'title_latex': s['title_latex'],'order': s['order'],'ref': s['title_include_path_and_ref']} for s in latexgenerator.song_sections])"
   ]
  },
  {
   "cell_type": "code",
   "execution_count": null,
   "id": "focal-bridges",
   "metadata": {},
   "outputs": [],
   "source": [
    "latexgenerator.remove_previous_actions()"
   ]
  },
  {
   "cell_type": "code",
   "execution_count": null,
   "id": "removable-breakfast",
   "metadata": {},
   "outputs": [],
   "source": [
    "latexgenerator.generate_songs_of_section()"
   ]
  },
  {
   "cell_type": "code",
   "execution_count": null,
   "id": "documentary-rebound",
   "metadata": {},
   "outputs": [],
   "source": [
    "latexgenerator.generate_song_sections()"
   ]
  },
  {
   "cell_type": "raw",
   "id": "collect-pioneer",
   "metadata": {},
   "source": [
    "s = \"Bleibet_hier___Zostań_tu___Remain_here_VL\"\n",
    "\n",
    "latexgenerator.get_alphanumeric(s)"
   ]
  },
  {
   "cell_type": "raw",
   "id": "perfect-bidder",
   "metadata": {},
   "source": [
    "s = \"#am Sunrise.cho\"\n",
    "s = os.path.splitext(s)[0]\n",
    "s[s.index(' ') + 1:].strip()\n",
    "s[1:s.index(' ')].strip()"
   ]
  },
  {
   "cell_type": "code",
   "execution_count": null,
   "id": "utility-samuel",
   "metadata": {},
   "outputs": [],
   "source": []
  }
 ],
 "metadata": {
  "kernelspec": {
   "display_name": "Python 3",
   "language": "python",
   "name": "python3"
  },
  "language_info": {
   "codemirror_mode": {
    "name": "ipython",
    "version": 3
   },
   "file_extension": ".py",
   "mimetype": "text/x-python",
   "name": "python",
   "nbconvert_exporter": "python",
   "pygments_lexer": "ipython3",
   "version": "3.9.2"
  }
 },
 "nbformat": 4,
 "nbformat_minor": 5
}
