{
 "cells": [
  {
   "cell_type": "markdown",
   "id": "popular-ballet",
   "metadata": {},
   "source": [
    "# Generate LaTex Song Sections\n",
    "\n",
    "This script creates one tex file per song section which will be included in the main tex file of the song book.\n",
    "\n",
    "## Workflow\n",
    "\n",
    "- load pickle file which contains info of generated chordpro pdf exports\n",
    "- use ninja templates to generate latex files\n"
   ]
  },
  {
   "cell_type": "code",
   "execution_count": null,
   "id": "approved-montana",
   "metadata": {},
   "outputs": [],
   "source": [
    "# https://ipython.readthedocs.io/en/stable/config/options/terminal.html#configtrait-InteractiveShell.ast_node_interactivity\n",
    "from IPython.core.interactiveshell import InteractiveShell\n",
    "InteractiveShell.ast_node_interactivity = \"all\" # last_expr, all"
   ]
  },
  {
   "cell_type": "code",
   "execution_count": null,
   "id": "employed-segment",
   "metadata": {},
   "outputs": [],
   "source": [
    "\n",
    "import os\n",
    "import pandas as pd\n",
    "import pprint\n",
    "from pylatexenc.latexencode import unicode_to_latex"
   ]
  },
  {
   "cell_type": "code",
   "execution_count": null,
   "id": "obvious-operations",
   "metadata": {},
   "outputs": [],
   "source": [
    "%load_ext autoreload\n",
    "%autoreload 1\n",
    "\n",
    "#from chordprosongbook import songscanner\n",
    "# use this type of import for autoreload:\n",
    "%aimport chordprosongbook.latexgenerator\n",
    "\n"
   ]
  },
  {
   "cell_type": "code",
   "execution_count": null,
   "id": "virtual-graham",
   "metadata": {},
   "outputs": [],
   "source": [
    "pp = pprint.PrettyPrinter(indent=4)"
   ]
  },
  {
   "cell_type": "code",
   "execution_count": null,
   "id": "capable-giant",
   "metadata": {},
   "outputs": [],
   "source": [
    "path_song_sections_pdf_includes = os.path.normpath(\"../data/generated-pdf-includes-do-not-edit/\")\n",
    "path_song_sections_latex = os.path.normpath('../latex/chapters/song-sections/')\n",
    "path_template_folder = os.path.normpath('../templates/')\n",
    "latexgenerator = chordprosongbook.latexgenerator.LatexGenerator(path_song_sections_pdf_includes,path_song_sections_latex,path_template_folder)"
   ]
  },
  {
   "cell_type": "code",
   "execution_count": null,
   "id": "complimentary-honor",
   "metadata": {},
   "outputs": [],
   "source": [
    "i = 1\n",
    "latexgenerator.song_sections[i].keys()\n",
    "latexgenerator.song_sections[i]['songs'].keys()\n",
    "latexgenerator.song_sections[i]['songs']['pdf-songs']\n",
    "latexgenerator.song_sections[i]['songs']['chordpro-songs']"
   ]
  },
  {
   "cell_type": "code",
   "execution_count": null,
   "id": "returning-amateur",
   "metadata": {},
   "outputs": [],
   "source": [
    "for section in latexgenerator.song_sections:\n",
    "    merged_songs = []\n",
    "    for k in section['songs']:\n",
    "        songs = section['songs'][k]\n",
    "        for song in songs:\n",
    "            print(song['name'])\n",
    "            if 'order' in song:\n",
    "                order = song['order']\n",
    "            else:\n",
    "                order = float(\"inf\")\n",
    "            latex_title = \"no title found\" # default\n",
    "            if 'metadata' in song:\n",
    "                m = song['metadata']\n",
    "                latex_title = \"\"\n",
    "                if 'title' in m: latex_title += m['title']\n",
    "                if 'artist' in m: latex_title += f\" - {m['artist']}\"\n",
    "            else:\n",
    "                latex_title = os.path.splitext(song['name'])[0]\n",
    "                \n",
    "            latex_title \n",
    "            \n",
    "            merged_songs.append(\n",
    "                {\n",
    "                    'name': song['name'],\n",
    "                    'generated_pdf_include_path': song['generated_pdf_include_path'],\n",
    "                    'order': order,\n",
    "                    'latex_title': latex_title\n",
    "                }\n",
    "            )\n",
    "            \n",
    "    section['merged_songs'] = merged_songs\n",
    "    \n",
    "pp.pprint([{'name': s['name'], 'merged_songs': s['merged_songs']} for s in latexgenerator.song_sections])"
   ]
  },
  {
   "cell_type": "code",
   "execution_count": null,
   "id": "tribal-pattern",
   "metadata": {},
   "outputs": [],
   "source": [
    "latexgenerator.remove_previous_actions()"
   ]
  },
  {
   "cell_type": "code",
   "execution_count": null,
   "id": "every-crazy",
   "metadata": {},
   "outputs": [],
   "source": [
    "latexgenerator.generate_song_sections()"
   ]
  },
  {
   "cell_type": "code",
   "execution_count": null,
   "id": "tutorial-fault",
   "metadata": {},
   "outputs": [],
   "source": [
    "s = \"Bleibet_hier___Zostań_tu___Remain_here_VL\"\n",
    "\n"
   ]
  }
 ],
 "metadata": {
  "kernelspec": {
   "display_name": "Python 3",
   "language": "python",
   "name": "python3"
  },
  "language_info": {
   "codemirror_mode": {
    "name": "ipython",
    "version": 3
   },
   "file_extension": ".py",
   "mimetype": "text/x-python",
   "name": "python",
   "nbconvert_exporter": "python",
   "pygments_lexer": "ipython3",
   "version": "3.9.2"
  }
 },
 "nbformat": 4,
 "nbformat_minor": 5
}
