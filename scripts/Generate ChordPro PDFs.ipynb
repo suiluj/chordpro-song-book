{
 "cells": [
  {
   "cell_type": "markdown",
   "id": "excessive-triple",
   "metadata": {},
   "source": [
    "# Generate ChordPro PDFs\n",
    "\n",
    "- input/songs/sections/\n",
    "    - Testlieder\n",
    "- output/chordpro-pdfs/sections/\n",
    "    - Testlieder"
   ]
  },
  {
   "cell_type": "code",
   "execution_count": null,
   "id": "characteristic-desktop",
   "metadata": {},
   "outputs": [],
   "source": [
    "# https://ipython.readthedocs.io/en/stable/config/options/terminal.html#configtrait-InteractiveShell.ast_node_interactivity\n",
    "from IPython.core.interactiveshell import InteractiveShell\n",
    "InteractiveShell.ast_node_interactivity = \"all\" # last_expr, all"
   ]
  },
  {
   "cell_type": "code",
   "execution_count": null,
   "id": "unlike-joyce",
   "metadata": {},
   "outputs": [],
   "source": [
    "import os\n",
    "import sys\n",
    "import fnmatch\n",
    "import subprocess\n",
    "import pandas as pd\n",
    "\n",
    "import pprint"
   ]
  },
  {
   "cell_type": "code",
   "execution_count": null,
   "id": "ethical-mediterranean",
   "metadata": {},
   "outputs": [],
   "source": [
    "import logging\n",
    "logging.basicConfig(level=logging.DEBUG)"
   ]
  },
  {
   "cell_type": "code",
   "execution_count": null,
   "id": "satisfied-story",
   "metadata": {},
   "outputs": [],
   "source": [
    "%load_ext autoreload\n",
    "%autoreload 1\n",
    "\n",
    "#from chordprosongbook import songscanner\n",
    "# use this type of import for autoreload:\n",
    "%aimport chordprosongbook.songscanner\n",
    "%aimport chordprosongbook.pdfmaker\n",
    "\n"
   ]
  },
  {
   "cell_type": "code",
   "execution_count": null,
   "id": "afraid-textbook",
   "metadata": {},
   "outputs": [],
   "source": [
    "pp = pprint.PrettyPrinter(indent=4)"
   ]
  },
  {
   "cell_type": "code",
   "execution_count": null,
   "id": "electoral-secretariat",
   "metadata": {},
   "outputs": [],
   "source": [
    "capoentfernen=False\n",
    "#source=\"default\"\n",
    "source=\"nextcloud_collection\""
   ]
  },
  {
   "cell_type": "code",
   "execution_count": null,
   "id": "adverse-principal",
   "metadata": {},
   "outputs": [],
   "source": [
    "path_input_song_sections = os.path.normpath(\"../data/input/song-sections/\")\n",
    "# path_input_song_sections\n",
    "scanner = chordprosongbook.songscanner.SongScanner(path_input_song_sections)"
   ]
  },
  {
   "cell_type": "code",
   "execution_count": null,
   "id": "periodic-willow",
   "metadata": {},
   "outputs": [],
   "source": [
    "if source == \"default\":\n",
    "    scanner.detect_song_sections()\n",
    "    scanner.detect_songs_of_sections(extension=\"cho\",subfolder=\"chordpro-songs\")\n",
    "    scanner.detect_songs_of_sections(extension=\"pdf\",subfolder=\"pdf-songs\")\n",
    "elif source == \"nextcloud_collection\":\n",
    "    scanner.detect_song_sections(sections_base_path=\"/Users/juliusheine/NextcloudGJEjulius.h/DePoLi/ChordPro Sammelordner/Liederordner pro Person\",\n",
    "                                 select_sections=None) # select_sections=['Lieder von Julius'] or None\n",
    "    scanner.detect_songs_of_sections(extension=\"cho\")\n",
    "    #scanner.detect_songs_of_sections(subfolder=\"pdf-songs\",extension=\"pdf\")"
   ]
  },
  {
   "cell_type": "code",
   "execution_count": null,
   "id": "occupied-compiler",
   "metadata": {},
   "outputs": [],
   "source": [
    "pp.pprint([section['name'] for section in scanner.song_sections])"
   ]
  },
  {
   "cell_type": "code",
   "execution_count": null,
   "id": "satisfactory-triple",
   "metadata": {},
   "outputs": [],
   "source": [
    "# https://stackoverflow.com/questions/40972805/python-capture-contents-inside-curly-braces/40972959\n",
    "# https://stackoverflow.com/questions/11310567/python-re-match-string-in-a-file/11310926\n",
    "\n",
    "scanner.extract_chordpro_metadata()\n",
    "           \n",
    "# pp.pprint(scanner.song_sections[0][\"songs\"])"
   ]
  },
  {
   "cell_type": "code",
   "execution_count": null,
   "id": "macro-management",
   "metadata": {},
   "outputs": [],
   "source": [
    "# scanner.song_sections"
   ]
  },
  {
   "cell_type": "markdown",
   "id": "silver-credits",
   "metadata": {},
   "source": [
    "### info/tips\n",
    "\n",
    "- subprocess tutorial: https://youtu.be/2Fp1N6dof0Y\n",
    "- using chordpro cli: https://www.chordpro.org/chordpro/using-chordpro/"
   ]
  },
  {
   "cell_type": "code",
   "execution_count": null,
   "id": "dietary-polyester",
   "metadata": {},
   "outputs": [],
   "source": [
    "# song_sections"
   ]
  },
  {
   "cell_type": "code",
   "execution_count": null,
   "id": "immediate-india",
   "metadata": {},
   "outputs": [],
   "source": [
    "path_song_sections_pdf_includes = os.path.normpath(\"../data/generated-pdf-includes-do-not-edit/\")\n",
    "pdfmaker = chordprosongbook.pdfmaker.PdfMaker(scanner.song_sections,path_song_sections_pdf_includes)"
   ]
  },
  {
   "cell_type": "code",
   "execution_count": null,
   "id": "random-western",
   "metadata": {},
   "outputs": [],
   "source": [
    "pdfmaker.remove_previous_actions()"
   ]
  },
  {
   "cell_type": "code",
   "execution_count": null,
   "id": "sorted-effect",
   "metadata": {
    "tags": []
   },
   "outputs": [],
   "source": [
    "pdfmaker.generate_chordpro_song_pdfs(decapo=capoentfernen)"
   ]
  },
  {
   "cell_type": "code",
   "execution_count": null,
   "id": "offshore-russia",
   "metadata": {},
   "outputs": [],
   "source": [
    "scanner.song_sections[0]['songs']['cho'][0].keys()\n",
    "scanner.song_sections[0].keys()\n",
    "scanner.song_sections[0]['path']"
   ]
  },
  {
   "cell_type": "code",
   "execution_count": null,
   "id": "devoted-assignment",
   "metadata": {},
   "outputs": [],
   "source": [
    "if source == \"nextcloud_collection\":\n",
    "    pdfmaker.create_chordpro_generation_logs()"
   ]
  },
  {
   "cell_type": "code",
   "execution_count": null,
   "id": "civil-present",
   "metadata": {},
   "outputs": [],
   "source": [
    "pdfmaker.copy_and_rename_pdf_songs()"
   ]
  },
  {
   "cell_type": "markdown",
   "id": "broken-pantyhose",
   "metadata": {},
   "source": [
    "### Merge and sort subfolders per section\n",
    "\n",
    "- start custom sort for file name with hashtag #<sortstring><space><filename>\n",
    "- implement in next notebook and latexgenerator class"
   ]
  },
  {
   "cell_type": "code",
   "execution_count": null,
   "id": "adequate-factor",
   "metadata": {},
   "outputs": [],
   "source": [
    "pdfmaker.save_configuration()"
   ]
  },
  {
   "cell_type": "markdown",
   "id": "african-dallas",
   "metadata": {},
   "source": [
    "## Testing"
   ]
  },
  {
   "cell_type": "raw",
   "id": "intermediate-wiring",
   "metadata": {},
   "source": [
    "import io"
   ]
  },
  {
   "cell_type": "raw",
   "id": "nasty-coaching",
   "metadata": {},
   "source": [
    "exclude_logs = [\n",
    "    \"Config error: unknown item pdf.fonts.comment.frame\",\n",
    "    \"jo\",\n",
    "    \"didum\"\n",
    "]\n",
    "logs = pdfmaker.song_sections[0]['songs']['cho'][0]['chordpro_output']['stderr']\n",
    "test = \"Hi\\njo\\nwie geht's?\\ndidum\\nConfig error: unknown item pdf.fonts.comment.frame\"\n",
    "\n",
    "stderr = test\n",
    "stderr_filtered = \"\"\n",
    "with io.StringIO(stderr) as fi:\n",
    "    for line in fi:\n",
    "        print_log_line = True\n",
    "        for exclude_log in exclude_logs:\n",
    "\n",
    "            if exclude_log in line:\n",
    "                print_log_line = False\n",
    "                continue\n",
    "        if print_log_line:\n",
    "            stderr_filtered += line + \"\\n\"\n",
    "\n",
    "print(stderr_filtered)"
   ]
  },
  {
   "cell_type": "raw",
   "id": "harmful-fighter",
   "metadata": {},
   "source": [
    "string = \"1\\n2\\n3\\n\"\n",
    "string.rsplit(\"\\n\",2)"
   ]
  },
  {
   "cell_type": "markdown",
   "id": "integrated-insurance",
   "metadata": {},
   "source": [
    "### backup"
   ]
  },
  {
   "cell_type": "raw",
   "id": "foster-comfort",
   "metadata": {},
   "source": [
    "\n",
    "chordpro_file_path = song_sections[0]['songs'][0]['path']\n",
    "pdf_file_path = os.path.join('../data/output/chordpro-pdfs/sections',song_sections[0]['name'],os.path.splitext(song_sections[0]['songs'][0]['name'])[0] + '.pdf')\n",
    "\n",
    "command = ['chordpro',f\"--config={config_path}\",f\"--output={pdf_file_path}\",chordpro_file_path]\n",
    "#command = ['chordpro',chordpro_file_path]\n",
    "#command = ['ls', '-la']\n",
    "#command = 'pwd'\n",
    "\n",
    "# capture_output=True does capture pdf output too. so change to stdout=subprocess.PIPE\n",
    "# stdout=subprocess.PIPE does not work either\n",
    "\n",
    "result = subprocess.run(command,capture_output=True)\n",
    "\n",
    "\n",
    "print(result.stdout.decode())\n",
    "\n",
    "if result.returncode != 0:\n",
    "    print(\"Error!\")\n",
    "\n",
    "if result.stderr != None:\n",
    "    print(result.stderr.decode())"
   ]
  },
  {
   "cell_type": "raw",
   "id": "alleged-kitchen",
   "metadata": {},
   "source": [
    "result"
   ]
  },
  {
   "cell_type": "raw",
   "id": "grateful-mileage",
   "metadata": {},
   "source": [
    "result.returncode\n",
    "result.stdout\n",
    "result.stderr"
   ]
  },
  {
   "cell_type": "code",
   "execution_count": null,
   "id": "innocent-marine",
   "metadata": {},
   "outputs": [],
   "source": []
  }
 ],
 "metadata": {
  "kernelspec": {
   "display_name": "Python 3",
   "language": "python",
   "name": "python3"
  },
  "language_info": {
   "codemirror_mode": {
    "name": "ipython",
    "version": 3
   },
   "file_extension": ".py",
   "mimetype": "text/x-python",
   "name": "python",
   "nbconvert_exporter": "python",
   "pygments_lexer": "ipython3",
   "version": "3.9.2"
  }
 },
 "nbformat": 4,
 "nbformat_minor": 5
}
