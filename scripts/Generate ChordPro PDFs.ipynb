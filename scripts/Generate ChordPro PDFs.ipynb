{
 "cells": [
  {
   "cell_type": "markdown",
   "id": "genetic-egyptian",
   "metadata": {},
   "source": [
    "# Generate ChordPro PDFs\n",
    "\n",
    "- input/songs/sections/\n",
    "    - Testlieder\n",
    "- output/chordpro-pdfs/sections/\n",
    "    - Testlieder"
   ]
  },
  {
   "cell_type": "code",
   "execution_count": null,
   "id": "prime-secretariat",
   "metadata": {},
   "outputs": [],
   "source": [
    "# https://ipython.readthedocs.io/en/stable/config/options/terminal.html#configtrait-InteractiveShell.ast_node_interactivity\n",
    "from IPython.core.interactiveshell import InteractiveShell\n",
    "InteractiveShell.ast_node_interactivity = \"all\" # last_expr, all"
   ]
  },
  {
   "cell_type": "code",
   "execution_count": null,
   "id": "mediterranean-guidance",
   "metadata": {},
   "outputs": [],
   "source": [
    "import os\n",
    "import sys\n",
    "import fnmatch\n",
    "import subprocess\n",
    "import pandas as pd\n",
    "\n",
    "import pprint"
   ]
  },
  {
   "cell_type": "code",
   "execution_count": null,
   "id": "federal-wireless",
   "metadata": {},
   "outputs": [],
   "source": [
    "import logging\n",
    "logging.basicConfig(level=logging.DEBUG)"
   ]
  },
  {
   "cell_type": "code",
   "execution_count": null,
   "id": "double-adjustment",
   "metadata": {},
   "outputs": [],
   "source": [
    "%load_ext autoreload\n",
    "%autoreload 1\n",
    "\n",
    "#from chordprosongbook import songscanner\n",
    "# use this type of import for autoreload:\n",
    "%aimport chordprosongbook.songscanner\n",
    "%aimport chordprosongbook.pdfmaker\n",
    "\n"
   ]
  },
  {
   "cell_type": "code",
   "execution_count": null,
   "id": "recent-amazon",
   "metadata": {},
   "outputs": [],
   "source": [
    "pp = pprint.PrettyPrinter(indent=4)"
   ]
  },
  {
   "cell_type": "code",
   "execution_count": null,
   "id": "internal-edward",
   "metadata": {},
   "outputs": [],
   "source": [
    "path_input_song_sections = os.path.normpath(\"../data/input/song-sections/\")\n",
    "path_input_song_sections\n",
    "scanner = chordprosongbook.songscanner.SongScanner(path_input_song_sections)"
   ]
  },
  {
   "cell_type": "code",
   "execution_count": null,
   "id": "artificial-listening",
   "metadata": {},
   "outputs": [],
   "source": [
    "scanner.detect_song_sections()\n",
    "scanner.song_sections"
   ]
  },
  {
   "cell_type": "code",
   "execution_count": null,
   "id": "developing-massachusetts",
   "metadata": {},
   "outputs": [],
   "source": [
    "scanner.detect_songs_of_sections(subfolder=\"chordpro-songs\",extension=\"cho\")\n",
    "scanner.detect_songs_of_sections(subfolder=\"pdf-songs\",extension=\"pdf\")\n",
    "scanner.song_sections"
   ]
  },
  {
   "cell_type": "code",
   "execution_count": null,
   "id": "severe-active",
   "metadata": {},
   "outputs": [],
   "source": [
    "pp.pprint([section['name'] for section in scanner.song_sections])"
   ]
  },
  {
   "cell_type": "code",
   "execution_count": null,
   "id": "parallel-period",
   "metadata": {},
   "outputs": [],
   "source": [
    "# https://stackoverflow.com/questions/40972805/python-capture-contents-inside-curly-braces/40972959\n",
    "# https://stackoverflow.com/questions/11310567/python-re-match-string-in-a-file/11310926\n",
    "\n",
    "scanner.extract_chordpro_metadata()\n",
    "           \n",
    "# pp.pprint(scanner.song_sections[0][\"songs\"])"
   ]
  },
  {
   "cell_type": "code",
   "execution_count": null,
   "id": "three-rates",
   "metadata": {},
   "outputs": [],
   "source": [
    "scanner.song_sections"
   ]
  },
  {
   "cell_type": "markdown",
   "id": "advised-halifax",
   "metadata": {},
   "source": [
    "### info/tips\n",
    "\n",
    "- subprocess tutorial: https://youtu.be/2Fp1N6dof0Y\n",
    "- using chordpro cli: https://www.chordpro.org/chordpro/using-chordpro/"
   ]
  },
  {
   "cell_type": "code",
   "execution_count": null,
   "id": "selected-mixture",
   "metadata": {},
   "outputs": [],
   "source": [
    "# song_sections"
   ]
  },
  {
   "cell_type": "code",
   "execution_count": null,
   "id": "administrative-dividend",
   "metadata": {},
   "outputs": [],
   "source": [
    "path_song_sections_pdf_includes = os.path.normpath(\"../data/generated-pdf-includes-do-not-edit/\")\n",
    "pdfmaker = chordprosongbook.pdfmaker.PdfMaker(scanner.song_sections,path_song_sections_pdf_includes)"
   ]
  },
  {
   "cell_type": "code",
   "execution_count": null,
   "id": "controlling-reputation",
   "metadata": {},
   "outputs": [],
   "source": [
    "pdfmaker.remove_previous_actions()"
   ]
  },
  {
   "cell_type": "code",
   "execution_count": null,
   "id": "efficient-cabinet",
   "metadata": {},
   "outputs": [],
   "source": [
    "12 % 12"
   ]
  },
  {
   "cell_type": "code",
   "execution_count": null,
   "id": "cross-sunglasses",
   "metadata": {
    "tags": []
   },
   "outputs": [],
   "source": [
    "pdfmaker.generate_chordpro_song_pdfs(decapo=True)"
   ]
  },
  {
   "cell_type": "code",
   "execution_count": null,
   "id": "violent-lesson",
   "metadata": {},
   "outputs": [],
   "source": [
    "pdfmaker.copy_and_rename_pdf_songs()"
   ]
  },
  {
   "cell_type": "markdown",
   "id": "imposed-listing",
   "metadata": {},
   "source": [
    "### Merge and sort subfolders per section\n",
    "\n",
    "- start custom sort for file name with hashtag #<sortstring><space><filename>\n",
    "- implement in next notebook and latexgenerator class"
   ]
  },
  {
   "cell_type": "code",
   "execution_count": null,
   "id": "spectacular-oasis",
   "metadata": {},
   "outputs": [],
   "source": []
  },
  {
   "cell_type": "code",
   "execution_count": null,
   "id": "theoretical-responsibility",
   "metadata": {},
   "outputs": [],
   "source": []
  },
  {
   "cell_type": "code",
   "execution_count": null,
   "id": "intelligent-former",
   "metadata": {},
   "outputs": [],
   "source": [
    "pdfmaker.save_configuration()"
   ]
  },
  {
   "cell_type": "code",
   "execution_count": null,
   "id": "noble-comparative",
   "metadata": {},
   "outputs": [],
   "source": [
    "# chordpro_output = song_sections[0]['songs'][0]['chordpro_output']\n",
    "\n",
    "# chordpro_output\n",
    "\n",
    "# print(chordpro_output[\"stderr\"])\n",
    "\n",
    "# pp.pprint(song_sections)"
   ]
  },
  {
   "cell_type": "raw",
   "id": "muslim-boxing",
   "metadata": {},
   "source": [
    "with open(song_sections_info_dict_pickle_path, 'rb') as handle:\n",
    "    loaded_song_sections =  pickle.load(handle)"
   ]
  },
  {
   "cell_type": "raw",
   "id": "bored-anime",
   "metadata": {},
   "source": [
    "print(song_sections == loaded_song_sections)"
   ]
  },
  {
   "cell_type": "markdown",
   "id": "governing-asset",
   "metadata": {},
   "source": [
    "### backup"
   ]
  },
  {
   "cell_type": "raw",
   "id": "daily-longer",
   "metadata": {},
   "source": [
    "\n",
    "chordpro_file_path = song_sections[0]['songs'][0]['path']\n",
    "pdf_file_path = os.path.join('../data/output/chordpro-pdfs/sections',song_sections[0]['name'],os.path.splitext(song_sections[0]['songs'][0]['name'])[0] + '.pdf')\n",
    "\n",
    "command = ['chordpro',f\"--config={config_path}\",f\"--output={pdf_file_path}\",chordpro_file_path]\n",
    "#command = ['chordpro',chordpro_file_path]\n",
    "#command = ['ls', '-la']\n",
    "#command = 'pwd'\n",
    "\n",
    "# capture_output=True does capture pdf output too. so change to stdout=subprocess.PIPE\n",
    "# stdout=subprocess.PIPE does not work either\n",
    "\n",
    "result = subprocess.run(command,capture_output=True)\n",
    "\n",
    "\n",
    "print(result.stdout.decode())\n",
    "\n",
    "if result.returncode != 0:\n",
    "    print(\"Error!\")\n",
    "\n",
    "if result.stderr != None:\n",
    "    print(result.stderr.decode())"
   ]
  },
  {
   "cell_type": "raw",
   "id": "serious-drawing",
   "metadata": {},
   "source": [
    "result"
   ]
  },
  {
   "cell_type": "raw",
   "id": "developed-toddler",
   "metadata": {},
   "source": [
    "result.returncode\n",
    "result.stdout\n",
    "result.stderr"
   ]
  },
  {
   "cell_type": "code",
   "execution_count": null,
   "id": "digital-writing",
   "metadata": {},
   "outputs": [],
   "source": []
  }
 ],
 "metadata": {
  "kernelspec": {
   "display_name": "Python 3",
   "language": "python",
   "name": "python3"
  },
  "language_info": {
   "codemirror_mode": {
    "name": "ipython",
    "version": 3
   },
   "file_extension": ".py",
   "mimetype": "text/x-python",
   "name": "python",
   "nbconvert_exporter": "python",
   "pygments_lexer": "ipython3",
   "version": "3.9.2"
  }
 },
 "nbformat": 4,
 "nbformat_minor": 5
}
