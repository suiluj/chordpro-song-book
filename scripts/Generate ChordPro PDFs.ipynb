{
 "cells": [
  {
   "cell_type": "markdown",
   "id": "executed-combining",
   "metadata": {},
   "source": [
    "# Generate ChordPro PDFs\n",
    "\n",
    "- input/songs/sections/\n",
    "    - Testlieder\n",
    "- output/chordpro-pdfs/sections/\n",
    "    - Testlieder"
   ]
  },
  {
   "cell_type": "code",
   "execution_count": null,
   "id": "personal-denial",
   "metadata": {},
   "outputs": [],
   "source": [
    "# https://ipython.readthedocs.io/en/stable/config/options/terminal.html#configtrait-InteractiveShell.ast_node_interactivity\n",
    "from IPython.core.interactiveshell import InteractiveShell\n",
    "InteractiveShell.ast_node_interactivity = \"all\" # last_expr, all"
   ]
  },
  {
   "cell_type": "code",
   "execution_count": null,
   "id": "blocked-maine",
   "metadata": {},
   "outputs": [],
   "source": [
    "import os\n",
    "import sys\n",
    "import fnmatch\n",
    "import subprocess\n",
    "import pandas as pd\n",
    "import re\n",
    "import pprint"
   ]
  },
  {
   "cell_type": "code",
   "execution_count": null,
   "id": "naked-ghost",
   "metadata": {},
   "outputs": [],
   "source": [
    "try:\n",
    "   import cPickle as pickle\n",
    "except:\n",
    "   import pickle"
   ]
  },
  {
   "cell_type": "code",
   "execution_count": null,
   "id": "rising-pizza",
   "metadata": {},
   "outputs": [],
   "source": [
    "pp = pprint.PrettyPrinter(indent=4)"
   ]
  },
  {
   "cell_type": "code",
   "execution_count": null,
   "id": "compliant-serial",
   "metadata": {},
   "outputs": [],
   "source": [
    "path_input_chordpro_sections = os.path.normpath(\"../data/input/songs/sections/\")\n",
    "path_output_chordpro_pdfs_sections = os.path.normpath(\"../data/output/chordpro-pdfs/sections/\")\n",
    "path_input_chordpro_sections\n",
    "path_output_chordpro_pdfs_sections"
   ]
  },
  {
   "cell_type": "code",
   "execution_count": null,
   "id": "cathedral-buyer",
   "metadata": {},
   "outputs": [],
   "source": [
    "# https://stackoverflow.com/a/59938961 (always use scandir)\n",
    "song_sections = [{\"name\": f.name, \"path\": f.path} for f in os.scandir(path_input_chordpro_sections) if f.is_dir()]\n",
    "#song_sections_paths = [f.path for f in os.scandir(path_input_sections) if f.is_dir()]\n",
    "song_sections"
   ]
  },
  {
   "cell_type": "code",
   "execution_count": null,
   "id": "organized-vertical",
   "metadata": {},
   "outputs": [],
   "source": [
    "for section in song_sections:\n",
    "    \n",
    "    # python list comprehension tips: multiple if statements, multiple lines syntax\n",
    "    # https://stackoverflow.com/a/15248356\n",
    "    # https://stackoverflow.com/a/12372259\n",
    "    songs_of_section = [\n",
    "        {\n",
    "            \"name\": f.name,\n",
    "            \"path\": f.path\n",
    "        } \n",
    "        for f in os.scandir(section['path'])\n",
    "            if f.is_file()\n",
    "            if fnmatch.fnmatch(f,'*.cho')\n",
    "    ]\n",
    "    \n",
    "    section[\"songs\"] = songs_of_section"
   ]
  },
  {
   "cell_type": "raw",
   "id": "maritime-stage",
   "metadata": {},
   "source": [
    "pp.pprint(song_sections[0][\"songs\"])"
   ]
  },
  {
   "cell_type": "code",
   "execution_count": null,
   "id": "authentic-experiment",
   "metadata": {},
   "outputs": [],
   "source": [
    "# https://stackoverflow.com/questions/40972805/python-capture-contents-inside-curly-braces/40972959\n",
    "# https://stackoverflow.com/questions/11310567/python-re-match-string-in-a-file/11310926\n",
    "\n",
    "regex = r\"\\{(.*?)\\}\"\n",
    "\n",
    "for song in song_sections[0][\"songs\"]:\n",
    "    with open(song[\"path\"]) as f:\n",
    "        # print (re.findall(regex,f.read(),re.MULTILINE))\n",
    "        matches = re.findall(regex,f.read())\n",
    "        # pp.pprint(matches)\n",
    "        # important! key is not real key when using capo\n",
    "        # when capo or custom columns key are searched my break condition will almost always never early quit\n",
    "        missing_keys = [\"title\",\"artist\",\"key\",\"capo\",\"columns_a5\"]\n",
    "        metadata = {}\n",
    "        for match in matches:\n",
    "            # print(song[\"name\"], match)\n",
    "            # remove found key but iterate over copy (by using slicing syntax): \n",
    "            for i, key in enumerate(missing_keys[:]):\n",
    "                if match.startswith(key):\n",
    "                    metadata[key] = match[len(f\"{key}:\"):].strip()\n",
    "                    # print(\"added: \", song[\"name\"], match)\n",
    "                    del missing_keys[i]\n",
    "                    # print(missing_keys)\n",
    "                    break\n",
    "            if not missing_keys: break\n",
    "        song[\"metadata\"] = metadata\n",
    "           \n",
    "pp.pprint(song_sections[0][\"songs\"])"
   ]
  },
  {
   "cell_type": "markdown",
   "id": "sorted-independence",
   "metadata": {},
   "source": [
    "### info/tips\n",
    "\n",
    "- subprocess tutorial: https://youtu.be/2Fp1N6dof0Y\n",
    "- using chordpro cli: https://www.chordpro.org/chordpro/using-chordpro/"
   ]
  },
  {
   "cell_type": "code",
   "execution_count": null,
   "id": "ultimate-lighter",
   "metadata": {},
   "outputs": [],
   "source": [
    "# song_sections"
   ]
  },
  {
   "cell_type": "code",
   "execution_count": null,
   "id": "swedish-execution",
   "metadata": {},
   "outputs": [],
   "source": [
    "config_path_a5 = os.path.normpath('../settings/chordpro-configs/a5-2column.json')\n",
    "config_force_one_column_path = os.path.normpath('../settings/chordpro-configs/force_one_column.json')\n",
    "\n",
    "pdf_setting = {\n",
    "    \"paper_size\": \"a5\"\n",
    "}\n",
    "\n",
    "for section in song_sections:\n",
    "    section_output_dir_path = os.path.join('../data/output/chordpro-pdfs/sections',song_sections[0]['name'])\n",
    "    if not os.path.exists(section_output_dir_path):\n",
    "        os.makedirs(section_output_dir_path)\n",
    "    \n",
    "    for song in section['songs']:\n",
    "        chordpro_file_path = song['path']\n",
    "        pdf_file_path = os.path.join('../data/output/chordpro-pdfs/sections',section['name'],os.path.splitext(song['name'])[0] + '.pdf')\n",
    "        \n",
    "        command = ['chordpro']\n",
    "        \n",
    "        if pdf_setting[\"paper_size\"] == \"a5\":\n",
    "            command.append(f\"--config={config_path_a5}\")\n",
    "        if \"columns_a5\" in song[\"metadata\"] and song[\"metadata\"][\"columns_a5\"] == '1':\n",
    "            command.append(f\"--config={config_force_one_column_path}\")\n",
    "        \n",
    "        command.extend([f\"--output={pdf_file_path}\",chordpro_file_path])\n",
    "                       \n",
    "        result = subprocess.run(command,capture_output=True)\n",
    "        song['chordpro_output'] = {'returncode': result.returncode, 'stdout': result.stdout.decode(),'stderr': result.stderr.decode()}\n",
    "        song['pdf_file_path'] = pdf_file_path\n",
    "        \n",
    "    "
   ]
  },
  {
   "cell_type": "code",
   "execution_count": null,
   "id": "revised-configuration",
   "metadata": {},
   "outputs": [],
   "source": [
    "# chordpro_output = song_sections[0]['songs'][0]['chordpro_output']\n",
    "\n",
    "# chordpro_output\n",
    "\n",
    "# print(chordpro_output[\"stderr\"])\n",
    "\n",
    "# pp.pprint(song_sections)"
   ]
  },
  {
   "cell_type": "code",
   "execution_count": null,
   "id": "crucial-vanilla",
   "metadata": {},
   "outputs": [],
   "source": [
    "song_sections_info_dict_pickle_path = os.path.join('../data/output/chordpro-pdfs/sections','song_sections_data.pickle')\n",
    "\n",
    "with open(song_sections_info_dict_pickle_path, 'wb') as handle:\n",
    "    pickle.dump(song_sections, handle, protocol=pickle.HIGHEST_PROTOCOL)"
   ]
  },
  {
   "cell_type": "code",
   "execution_count": null,
   "id": "actual-richards",
   "metadata": {},
   "outputs": [],
   "source": [
    "with open(song_sections_info_dict_pickle_path, 'rb') as handle:\n",
    "    loaded_song_sections =  pickle.load(handle)"
   ]
  },
  {
   "cell_type": "code",
   "execution_count": null,
   "id": "headed-worship",
   "metadata": {},
   "outputs": [],
   "source": [
    "print(song_sections == loaded_song_sections)"
   ]
  },
  {
   "cell_type": "markdown",
   "id": "fatal-monday",
   "metadata": {},
   "source": [
    "### backup"
   ]
  },
  {
   "cell_type": "raw",
   "id": "motivated-utilization",
   "metadata": {},
   "source": [
    "\n",
    "chordpro_file_path = song_sections[0]['songs'][0]['path']\n",
    "pdf_file_path = os.path.join('../data/output/chordpro-pdfs/sections',song_sections[0]['name'],os.path.splitext(song_sections[0]['songs'][0]['name'])[0] + '.pdf')\n",
    "\n",
    "command = ['chordpro',f\"--config={config_path}\",f\"--output={pdf_file_path}\",chordpro_file_path]\n",
    "#command = ['chordpro',chordpro_file_path]\n",
    "#command = ['ls', '-la']\n",
    "#command = 'pwd'\n",
    "\n",
    "# capture_output=True does capture pdf output too. so change to stdout=subprocess.PIPE\n",
    "# stdout=subprocess.PIPE does not work either\n",
    "\n",
    "result = subprocess.run(command,capture_output=True)\n",
    "\n",
    "\n",
    "print(result.stdout.decode())\n",
    "\n",
    "if result.returncode != 0:\n",
    "    print(\"Error!\")\n",
    "\n",
    "if result.stderr != None:\n",
    "    print(result.stderr.decode())"
   ]
  },
  {
   "cell_type": "code",
   "execution_count": null,
   "id": "bright-berlin",
   "metadata": {},
   "outputs": [],
   "source": [
    "result"
   ]
  },
  {
   "cell_type": "code",
   "execution_count": null,
   "id": "funny-parent",
   "metadata": {},
   "outputs": [],
   "source": [
    "result.returncode\n",
    "result.stdout\n",
    "result.stderr"
   ]
  },
  {
   "cell_type": "code",
   "execution_count": null,
   "id": "polar-short",
   "metadata": {},
   "outputs": [],
   "source": []
  }
 ],
 "metadata": {
  "kernelspec": {
   "display_name": "Python 3",
   "language": "python",
   "name": "python3"
  },
  "language_info": {
   "codemirror_mode": {
    "name": "ipython",
    "version": 3
   },
   "file_extension": ".py",
   "mimetype": "text/x-python",
   "name": "python",
   "nbconvert_exporter": "python",
   "pygments_lexer": "ipython3",
   "version": "3.9.2"
  }
 },
 "nbformat": 4,
 "nbformat_minor": 5
}
