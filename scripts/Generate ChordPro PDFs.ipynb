{
 "cells": [
  {
   "cell_type": "markdown",
   "id": "cosmetic-appointment",
   "metadata": {},
   "source": [
    "# Generate ChordPro PDFs\n",
    "\n",
    "- input/songs/sections/\n",
    "    - Testlieder\n",
    "- output/chordpro-pdfs/sections/\n",
    "    - Testlieder"
   ]
  },
  {
   "cell_type": "code",
   "execution_count": null,
   "id": "settled-bouquet",
   "metadata": {},
   "outputs": [],
   "source": [
    "# https://ipython.readthedocs.io/en/stable/config/options/terminal.html#configtrait-InteractiveShell.ast_node_interactivity\n",
    "from IPython.core.interactiveshell import InteractiveShell\n",
    "InteractiveShell.ast_node_interactivity = \"all\" # last_expr, all"
   ]
  },
  {
   "cell_type": "code",
   "execution_count": null,
   "id": "bottom-landing",
   "metadata": {},
   "outputs": [],
   "source": [
    "import os\n",
    "import fnmatch\n",
    "import subprocess\n",
    "import pandas as pd\n",
    "import re\n",
    "import pprint"
   ]
  },
  {
   "cell_type": "code",
   "execution_count": null,
   "id": "manufactured-parameter",
   "metadata": {},
   "outputs": [],
   "source": [
    "pp = pprint.PrettyPrinter(indent=4)"
   ]
  },
  {
   "cell_type": "code",
   "execution_count": null,
   "id": "technical-thriller",
   "metadata": {},
   "outputs": [],
   "source": [
    "path_input_chordpro_sections = os.path.normpath(\"../data/input/songs/sections/\")\n",
    "path_output_chordpro_pdfs_sections = os.path.normpath(\"../data/output/chordpro-pdfs/sections/\")\n",
    "path_input_chordpro_sections\n",
    "path_output_chordpro_pdfs_sections"
   ]
  },
  {
   "cell_type": "code",
   "execution_count": null,
   "id": "worst-klein",
   "metadata": {},
   "outputs": [],
   "source": [
    "# https://stackoverflow.com/a/59938961 (always use scandir)\n",
    "song_sections = [{\"name\": f.name, \"path\": f.path} for f in os.scandir(path_input_sections) if f.is_dir()]\n",
    "#song_sections_paths = [f.path for f in os.scandir(path_input_sections) if f.is_dir()]\n",
    "song_sections"
   ]
  },
  {
   "cell_type": "code",
   "execution_count": null,
   "id": "bearing-drilling",
   "metadata": {},
   "outputs": [],
   "source": [
    "for section in song_sections:\n",
    "    songs_of_section = [\n",
    "        {\n",
    "            \"name\": f.name,\n",
    "            \"path\": f.path\n",
    "        } \n",
    "        for f in os.scandir(section['path'])\n",
    "            if f.is_file()\n",
    "            if fnmatch.fnmatch(f,'*.cho')\n",
    "    ]\n",
    "    section[\"songs\"] = songs_of_section\n",
    "    #songs_cho"
   ]
  },
  {
   "cell_type": "raw",
   "id": "charged-revolution",
   "metadata": {},
   "source": [
    "pp.pprint(song_sections[0][\"songs\"])"
   ]
  },
  {
   "cell_type": "code",
   "execution_count": null,
   "id": "imperial-count",
   "metadata": {},
   "outputs": [],
   "source": [
    "# https://stackoverflow.com/questions/40972805/python-capture-contents-inside-curly-braces/40972959\n",
    "# https://stackoverflow.com/questions/11310567/python-re-match-string-in-a-file/11310926\n",
    "\n",
    "regex = r\"\\{(.*?)\\}\"\n",
    "\n",
    "for song in song_sections[0][\"songs\"]:\n",
    "    with open(song[\"path\"]) as f:\n",
    "        # print (re.findall(regex,f.read(),re.MULTILINE))\n",
    "        matches = re.findall(regex,f.read())\n",
    "        # pp.pprint(matches)\n",
    "        # important! key is not real key when using capo\n",
    "        # when capo or custom columns key are searched my break condition will almost always never early quit\n",
    "        missing_keys = [\"title\",\"artist\",\"key\",\"capo\"]\n",
    "        metadata = {}\n",
    "        for match in matches:\n",
    "            # print(song[\"name\"], match)\n",
    "            # remove found key but iterate over copy (by using slicing syntax): \n",
    "            for i, key in enumerate(missing_keys[:]):\n",
    "                if match.startswith(key):\n",
    "                    metadata[key] = match[len(f\"{key}:\"):].strip()\n",
    "                    # print(\"added: \", song[\"name\"], match)\n",
    "                    del missing_keys[i]\n",
    "                    # print(missing_keys)\n",
    "                    break\n",
    "            if not missing_keys: break\n",
    "        song[\"metadata\"] = metadata\n",
    "           \n",
    "pp.pprint(song_sections[0][\"songs\"])"
   ]
  },
  {
   "cell_type": "code",
   "execution_count": null,
   "id": "boxed-examination",
   "metadata": {},
   "outputs": [],
   "source": []
  }
 ],
 "metadata": {
  "kernelspec": {
   "display_name": "Python 3",
   "language": "python",
   "name": "python3"
  },
  "language_info": {
   "codemirror_mode": {
    "name": "ipython",
    "version": 3
   },
   "file_extension": ".py",
   "mimetype": "text/x-python",
   "name": "python",
   "nbconvert_exporter": "python",
   "pygments_lexer": "ipython3",
   "version": "3.9.2"
  }
 },
 "nbformat": 4,
 "nbformat_minor": 5
}
