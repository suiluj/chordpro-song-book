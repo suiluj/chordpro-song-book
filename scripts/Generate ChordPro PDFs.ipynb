{
 "cells": [
  {
   "cell_type": "markdown",
   "id": "loved-guess",
   "metadata": {},
   "source": [
    "# Generate ChordPro PDFs\n",
    "\n",
    "- input/songs/sections/\n",
    "    - Testlieder\n",
    "- output/chordpro-pdfs/sections/\n",
    "    - Testlieder"
   ]
  },
  {
   "cell_type": "code",
   "execution_count": null,
   "id": "variable-rabbit",
   "metadata": {},
   "outputs": [],
   "source": [
    "# https://ipython.readthedocs.io/en/stable/config/options/terminal.html#configtrait-InteractiveShell.ast_node_interactivity\n",
    "from IPython.core.interactiveshell import InteractiveShell\n",
    "InteractiveShell.ast_node_interactivity = \"all\" # last_expr, all"
   ]
  },
  {
   "cell_type": "code",
   "execution_count": null,
   "id": "persistent-greenhouse",
   "metadata": {},
   "outputs": [],
   "source": [
    "import os\n",
    "import sys\n",
    "import fnmatch\n",
    "import subprocess\n",
    "import pandas as pd\n",
    "import re\n",
    "import pprint"
   ]
  },
  {
   "cell_type": "code",
   "execution_count": null,
   "id": "annual-latitude",
   "metadata": {},
   "outputs": [],
   "source": [
    "pp = pprint.PrettyPrinter(indent=4)"
   ]
  },
  {
   "cell_type": "code",
   "execution_count": null,
   "id": "tough-uruguay",
   "metadata": {},
   "outputs": [],
   "source": [
    "path_input_chordpro_sections = os.path.normpath(\"../data/input/songs/sections/\")\n",
    "path_output_chordpro_pdfs_sections = os.path.normpath(\"../data/output/chordpro-pdfs/sections/\")\n",
    "path_input_chordpro_sections\n",
    "path_output_chordpro_pdfs_sections"
   ]
  },
  {
   "cell_type": "code",
   "execution_count": null,
   "id": "undefined-exercise",
   "metadata": {},
   "outputs": [],
   "source": [
    "# https://stackoverflow.com/a/59938961 (always use scandir)\n",
    "song_sections = [{\"name\": f.name, \"path\": f.path} for f in os.scandir(path_input_chordpro_sections) if f.is_dir()]\n",
    "#song_sections_paths = [f.path for f in os.scandir(path_input_sections) if f.is_dir()]\n",
    "song_sections"
   ]
  },
  {
   "cell_type": "code",
   "execution_count": null,
   "id": "minute-brooks",
   "metadata": {},
   "outputs": [],
   "source": [
    "for section in song_sections:\n",
    "    \n",
    "    # python list comprehension tips: multiple if statements, multiple lines syntax\n",
    "    # https://stackoverflow.com/a/15248356\n",
    "    # https://stackoverflow.com/a/12372259\n",
    "    songs_of_section = [\n",
    "        {\n",
    "            \"name\": f.name,\n",
    "            \"path\": f.path\n",
    "        } \n",
    "        for f in os.scandir(section['path'])\n",
    "            if f.is_file()\n",
    "            if fnmatch.fnmatch(f,'*.cho')\n",
    "    ]\n",
    "    \n",
    "    section[\"songs\"] = songs_of_section"
   ]
  },
  {
   "cell_type": "raw",
   "id": "temporal-sponsorship",
   "metadata": {},
   "source": [
    "pp.pprint(song_sections[0][\"songs\"])"
   ]
  },
  {
   "cell_type": "code",
   "execution_count": null,
   "id": "reverse-multiple",
   "metadata": {},
   "outputs": [],
   "source": [
    "# https://stackoverflow.com/questions/40972805/python-capture-contents-inside-curly-braces/40972959\n",
    "# https://stackoverflow.com/questions/11310567/python-re-match-string-in-a-file/11310926\n",
    "\n",
    "regex = r\"\\{(.*?)\\}\"\n",
    "\n",
    "for song in song_sections[0][\"songs\"]:\n",
    "    with open(song[\"path\"]) as f:\n",
    "        # print (re.findall(regex,f.read(),re.MULTILINE))\n",
    "        matches = re.findall(regex,f.read())\n",
    "        # pp.pprint(matches)\n",
    "        # important! key is not real key when using capo\n",
    "        # when capo or custom columns key are searched my break condition will almost always never early quit\n",
    "        missing_keys = [\"title\",\"artist\",\"key\",\"capo\"]\n",
    "        metadata = {}\n",
    "        for match in matches:\n",
    "            # print(song[\"name\"], match)\n",
    "            # remove found key but iterate over copy (by using slicing syntax): \n",
    "            for i, key in enumerate(missing_keys[:]):\n",
    "                if match.startswith(key):\n",
    "                    metadata[key] = match[len(f\"{key}:\"):].strip()\n",
    "                    # print(\"added: \", song[\"name\"], match)\n",
    "                    del missing_keys[i]\n",
    "                    # print(missing_keys)\n",
    "                    break\n",
    "            if not missing_keys: break\n",
    "        song[\"metadata\"] = metadata\n",
    "           \n",
    "pp.pprint(song_sections[0][\"songs\"])"
   ]
  },
  {
   "cell_type": "markdown",
   "id": "moderate-monster",
   "metadata": {},
   "source": [
    "### info/tips\n",
    "\n",
    "- subprocess tutorial: https://youtu.be/2Fp1N6dof0Y\n",
    "- using chordpro cli: https://www.chordpro.org/chordpro/using-chordpro/"
   ]
  },
  {
   "cell_type": "code",
   "execution_count": null,
   "id": "dental-accountability",
   "metadata": {},
   "outputs": [],
   "source": [
    "song_sections"
   ]
  },
  {
   "cell_type": "code",
   "execution_count": null,
   "id": "joined-chair",
   "metadata": {},
   "outputs": [],
   "source": [
    "song_sections[0]['songs'][0]['path']"
   ]
  },
  {
   "cell_type": "code",
   "execution_count": null,
   "id": "handed-institute",
   "metadata": {},
   "outputs": [],
   "source": [
    "chordpro_file_path = os.path.join('../data/input/songs/sections',song_sections[0]['name'],song_sections[0]['songs'][0]['name'])\n",
    "chordpro_file_path"
   ]
  },
  {
   "cell_type": "code",
   "execution_count": null,
   "id": "biblical-store",
   "metadata": {},
   "outputs": [],
   "source": [
    "pdf_file_path = os.path.join('../data/output/chordpro-pdfs/sections',song_sections[0]['name'],song_sections[0]['songs'][0]['name'])\n",
    "pdf_file_path"
   ]
  },
  {
   "cell_type": "code",
   "execution_count": null,
   "id": "commercial-telescope",
   "metadata": {},
   "outputs": [],
   "source": [
    "section_output_dir_path = os.path.join('../data/output/chordpro-pdfs/sections',song_sections[0]['name'])\n",
    "section_output_dir_path"
   ]
  },
  {
   "cell_type": "code",
   "execution_count": null,
   "id": "running-woman",
   "metadata": {},
   "outputs": [],
   "source": [
    "if not os.path.exists(section_dir_path):\n",
    "    os.makedirs(section_dir_path)"
   ]
  },
  {
   "cell_type": "code",
   "execution_count": null,
   "id": "suspended-insured",
   "metadata": {},
   "outputs": [],
   "source": [
    "config_path = os.path.normpath('../settings/chordpro-configs/a5-2column.json')\n",
    "\n",
    "for section in song_sections:\n",
    "    section_output_dir_path = os.path.join('../data/output/chordpro-pdfs/sections',song_sections[0]['name'])\n",
    "    if not os.path.exists(section_output_dir_path):\n",
    "        os.makedirs(section_output_dir_path)\n",
    "    \n",
    "    for song in section['songs']:\n",
    "        chordpro_file_path = song['path']\n",
    "        pdf_file_path = os.path.join('../data/output/chordpro-pdfs/sections',section['name'],os.path.splitext(song['name'])[0] + '.pdf')\n",
    "\n",
    "        command = ['chordpro',f\"--config={config_path}\",f\"--output={pdf_file_path}\",chordpro_file_path]\n",
    "        result = subprocess.run(command,capture_output=True)\n",
    "        song['chordpro_output'] = {'returncode': result.returncode, 'stdout': result.stdout.decode(),'stderr': result.stderr.decode()}\n",
    "        \n",
    "    "
   ]
  },
  {
   "cell_type": "code",
   "execution_count": null,
   "id": "defined-course",
   "metadata": {},
   "outputs": [],
   "source": [
    "chordpro_output = song_sections[0]['songs'][0]['chordpro_output']"
   ]
  },
  {
   "cell_type": "code",
   "execution_count": null,
   "id": "immediate-ranch",
   "metadata": {},
   "outputs": [],
   "source": [
    "chordpro_output"
   ]
  },
  {
   "cell_type": "code",
   "execution_count": null,
   "id": "framed-civilian",
   "metadata": {},
   "outputs": [],
   "source": [
    "print(chordpro_output[\"stderr\"])"
   ]
  },
  {
   "cell_type": "raw",
   "id": "logical-partner",
   "metadata": {},
   "source": [
    "\n",
    "chordpro_file_path = song_sections[0]['songs'][0]['path']\n",
    "pdf_file_path = os.path.join('../data/output/chordpro-pdfs/sections',song_sections[0]['name'],os.path.splitext(song_sections[0]['songs'][0]['name'])[0] + '.pdf')\n",
    "\n",
    "command = ['chordpro',f\"--config={config_path}\",f\"--output={pdf_file_path}\",chordpro_file_path]\n",
    "#command = ['chordpro',chordpro_file_path]\n",
    "#command = ['ls', '-la']\n",
    "#command = 'pwd'\n",
    "\n",
    "# capture_output=True does capture pdf output too. so change to stdout=subprocess.PIPE\n",
    "# stdout=subprocess.PIPE does not work either\n",
    "\n",
    "result = subprocess.run(command,capture_output=True)\n",
    "\n",
    "\n",
    "print(result.stdout.decode())\n",
    "\n",
    "if result.returncode != 0:\n",
    "    print(\"Error!\")\n",
    "\n",
    "if result.stderr != None:\n",
    "    print(result.stderr.decode())"
   ]
  },
  {
   "cell_type": "code",
   "execution_count": null,
   "id": "round-mailman",
   "metadata": {},
   "outputs": [],
   "source": [
    "result"
   ]
  },
  {
   "cell_type": "code",
   "execution_count": null,
   "id": "generous-ribbon",
   "metadata": {},
   "outputs": [],
   "source": [
    "result.returncode\n",
    "result.stdout\n",
    "result.stderr"
   ]
  },
  {
   "cell_type": "code",
   "execution_count": null,
   "id": "abstract-ethernet",
   "metadata": {},
   "outputs": [],
   "source": []
  }
 ],
 "metadata": {
  "kernelspec": {
   "display_name": "Python 3",
   "language": "python",
   "name": "python3"
  },
  "language_info": {
   "codemirror_mode": {
    "name": "ipython",
    "version": 3
   },
   "file_extension": ".py",
   "mimetype": "text/x-python",
   "name": "python",
   "nbconvert_exporter": "python",
   "pygments_lexer": "ipython3",
   "version": "3.9.2"
  }
 },
 "nbformat": 4,
 "nbformat_minor": 5
}
